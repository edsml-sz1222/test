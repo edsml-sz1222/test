{
 "cells": [
  {
   "attachments": {},
   "cell_type": "markdown",
   "metadata": {},
   "source": [
    "# Import Packages"
   ]
  },
  {
   "cell_type": "code",
   "execution_count": 1,
   "metadata": {},
   "outputs": [
    {
     "name": "stderr",
     "output_type": "stream",
     "text": [
      "2023-07-05 17:11:15.093905: I tensorflow/core/platform/cpu_feature_guard.cc:193] This TensorFlow binary is optimized with oneAPI Deep Neural Network Library (oneDNN) to use the following CPU instructions in performance-critical operations:  SSE4.1 SSE4.2\n",
      "To enable them in other operations, rebuild TensorFlow with the appropriate compiler flags.\n"
     ]
    }
   ],
   "source": [
    "import eofs\n",
    "import os\n",
    "from eofs.standard import Eof\n",
    "import matplotlib.pyplot as plt\n",
    "import numpy as np\n",
    "import pandas as pd\n",
    "import vtk\n",
    "from vtk.util import numpy_support\n",
    "import tensorflow as tf\n",
    "from sklearn.decomposition import PCA\n",
    "from sklearn.metrics import mean_squared_error\n",
    "from sklearn.model_selection import train_test_split\n",
    "from sklearn.preprocessing import MinMaxScaler\n",
    "from tensorflow.keras.layers import LSTM, Dense, Activation\n",
    "from tensorflow.keras.models import Sequential\n",
    "from utils import funcs\n",
    "from utils import lstm\n",
    "import pyvista as pv\n",
    "import glob"
   ]
  },
  {
   "attachments": {},
   "cell_type": "markdown",
   "metadata": {},
   "source": [
    "# Set hyperparameters/parameters"
   ]
  },
  {
   "cell_type": "code",
   "execution_count": 2,
   "metadata": {},
   "outputs": [],
   "source": [
    "field_name = 'Velocity'  # set the field name to read in\n",
    "filebase = 'fpc_'\n",
    "input_data_path = 'data/cylinder/' # set the path to the data\n",
    "output_data_path = 'data/pca_lstm_results/' # set the path to the data"
   ]
  },
  {
   "attachments": {},
   "cell_type": "markdown",
   "metadata": {},
   "source": [
    "## Get the field size of the data "
   ]
  },
  {
   "cell_type": "code",
   "execution_count": 3,
   "metadata": {},
   "outputs": [
    {
     "name": "stdout",
     "output_type": "stream",
     "text": [
      "Field size in x:  2.2\n",
      "Field size in y:  0.41\n",
      "Field size in z:  0.0\n"
     ]
    }
   ],
   "source": [
    "# Get the size of the data\n",
    "\n",
    "reader = vtk.vtkXMLUnstructuredGridReader()\n",
    "reader.SetFileName(input_data_path + filebase + str(1) + '.vtu')\n",
    "reader.Update()\n",
    "\n",
    "# Get the unstructured grid data\n",
    "ugrid = reader.GetOutput()\n",
    "\n",
    "# Get the bounds of the unstructured grid data\n",
    "x_min, x_max, y_min, y_max, z_min, z_max = ugrid.GetBounds()\n",
    "\n",
    "# Compute the size of the field\n",
    "x_size = x_max - x_min\n",
    "y_size = y_max - y_min\n",
    "z_size = z_max - z_min\n",
    "\n",
    "print(\"Field size in x: \", x_size)\n",
    "print(\"Field size in y: \", y_size)\n",
    "print(\"Field size in z: \", z_size)\n"
   ]
  },
  {
   "attachments": {},
   "cell_type": "markdown",
   "metadata": {},
   "source": [
    "## Set the resolution of the data"
   ]
  },
  {
   "cell_type": "code",
   "execution_count": 4,
   "metadata": {},
   "outputs": [],
   "source": [
    "# set the resolution of the grid\n",
    "x_res, y_res, z_res = int(x_size*100) , int(y_size*100), 1  \n",
    "\n",
    "#set desired explained variance\n",
    "targetVariance = 0.99\n",
    "\n",
    "# set parameters to split the data\n",
    "split_ratio = 0.2 # First 60% of data is used for training, the following 20% for validation and the remaining 20% for testing \n",
    "window_size = 30 # number of previous time steps to use as input variables to predict the next time period\n",
    "\n",
    "# Set parameters for the LSTM model\n",
    "batch_size = 100\n",
    "no_epochs = 100\n",
    "no_units = 128\n",
    "patience = 5"
   ]
  },
  {
   "attachments": {},
   "cell_type": "markdown",
   "metadata": {},
   "source": [
    "# Transform Unstructured Data to Structured Data"
   ]
  },
  {
   "cell_type": "code",
   "execution_count": 6,
   "metadata": {},
   "outputs": [],
   "source": [
    "# x_res, y_res, z_res = 220, 40, 1  # set the resolution of the grid\n",
    "# field_name = 'Velocity'  # set the field name to read in\n",
    "# filebase = 'fpc_'\n",
    "all_data = []\n",
    "\n",
    "# Loop over all file numbers\n",
    "for file_num in range(1500):  # set the number of files to read in\n",
    "\n",
    "    filename = input_data_path + filebase + str(file_num) + '.vtu'\n",
    "    \n",
    "    reader = vtk.vtkXMLUnstructuredGridReader()  # set the reader\n",
    "    reader.SetFileName(filename)  # read the data\n",
    "    reader.Update()\n",
    "\n",
    "    # get the unstructured grid data\n",
    "    ugrid = reader.GetOutput()\n",
    "\n",
    "    # set the bounds of the unstructured grid data\n",
    "    x_min, x_max, y_min, y_max, z_min, z_max = ugrid.GetBounds()\n",
    "    \n",
    "    # create a vtkImageData object\n",
    "    imageData = vtk.vtkImageData()\n",
    "    imageData.SetDimensions(x_res, y_res, z_res)\n",
    "    imageData.SetOrigin(x_min, y_min, z_min)\n",
    "    imageData.SetSpacing(\n",
    "        (x_max - x_min) / x_res, (y_max - y_min) / y_res, (z_max - z_min) / z_res)\n",
    "\n",
    "    # use the vtkProbeFilter to interpolate the data\n",
    "    probe = vtk.vtkProbeFilter()\n",
    "    probe.SetSourceData(ugrid)\n",
    "    probe.SetInputData(imageData)\n",
    "    probe.Update()\n",
    "\n",
    "    # get the structured grid data after interpolation\n",
    "    structuredGrid = probe.GetOutput()\n",
    "\n",
    "    # Get the vtkDataArray object, which is the actual storage form of the structured grid data\n",
    "    dataArray = structuredGrid.GetPointData().GetArray(field_name) \n",
    "\n",
    "    # Transform the vtkDataArray object to a NumPy array\n",
    "    npArray = np.array(dataArray)\n",
    "    npArray = npArray.flatten()\n",
    "\n",
    "    # append the NumPy array to the list\n",
    "    all_data.append(npArray)\n",
    "\n",
    "# Transform the list to a NumPy array\n",
    "all_data = np.array(all_data)"
   ]
  },
  {
   "cell_type": "code",
   "execution_count": 7,
   "metadata": {},
   "outputs": [
    {
     "name": "stdout",
     "output_type": "stream",
     "text": [
      "(1500, 27060)\n",
      "(9020, 3)\n"
     ]
    }
   ],
   "source": [
    "print(all_data.shape)\n",
    "print(np.array(dataArray).shape)\n",
    "data_shape = np.array(dataArray).shape"
   ]
  },
  {
   "attachments": {},
   "cell_type": "markdown",
   "metadata": {},
   "source": [
    "# Perform PCA"
   ]
  },
  {
   "attachments": {},
   "cell_type": "markdown",
   "metadata": {},
   "source": [
    "## Attempt to find how many PCs we need to achieve the target variance"
   ]
  },
  {
   "cell_type": "code",
   "execution_count": 8,
   "metadata": {},
   "outputs": [
    {
     "name": "stderr",
     "output_type": "stream",
     "text": [
      "/var/folders/8s/5vt13vsx27v11srm2m8x03wm0000gp/T/ipykernel_18694/4139737946.py:4: DeprecationWarning: `product` is deprecated as of NumPy 1.25.0, and will be removed in NumPy 2.0. Please use `prod` instead.\n",
      "  solver = Eof(all_data)\n"
     ]
    },
    {
     "data": {
      "image/png": "[encoded data removed]",
      "text/plain": [
       "<Figure size 640x480 with 1 Axes>"
      ]
     },
     "metadata": {},
     "output_type": "display_data"
    },
    {
     "name": "stdout",
     "output_type": "stream",
     "text": [
      "Number of PCs for 99.0% variance is: 14\n"
     ]
    }
   ],
   "source": [
    "#set desired explained variance\n",
    "# targetVariance = 0.99\n",
    "\n",
    "solver = Eof(all_data)\n",
    "\n",
    "varianceCumulative = np.cumsum(solver.varianceFraction())\n",
    "eigenvalues = solver.eigenvalues()\n",
    "pcs = solver.pcs()\n",
    "eof = solver.eofs()\n",
    "\n",
    "minPCs = np.min(np.where(varianceCumulative>targetVariance))\n",
    "plt.plot(varianceCumulative)\n",
    "plt.axvline(minPCs, color='r')\n",
    "plt.axhline(targetVariance, color='r')\n",
    "plt.show()\n",
    "print('Number of PCs for ' + str(targetVariance*100) + '% variance is: ' + str(minPCs))"
   ]
  },
  {
   "attachments": {},
   "cell_type": "markdown",
   "metadata": {},
   "source": [
    "## Use the PC number from the result above"
   ]
  },
  {
   "cell_type": "code",
   "execution_count": 9,
   "metadata": {},
   "outputs": [
    {
     "name": "stdout",
     "output_type": "stream",
     "text": [
      "MSE: 0.000291351498718726\n"
     ]
    }
   ],
   "source": [
    "# set the number of principal components\n",
    "pca = PCA(n_components=minPCs)\n",
    "pca_transformed = pca.fit_transform(all_data)\n",
    "recovered = pca.inverse_transform(pca_transformed)\n",
    "# recovered = recovered.reshape(np.array(all_data).shape)\n",
    "mse_structured = mean_squared_error(all_data, recovered)\n",
    "print(f'MSE: {mse_structured}')"
   ]
  },
  {
   "cell_type": "code",
   "execution_count": 10,
   "metadata": {},
   "outputs": [
    {
     "name": "stdout",
     "output_type": "stream",
     "text": [
      "(1500, 14)\n",
      "(1500, 27060)\n"
     ]
    }
   ],
   "source": [
    "print(pca_transformed.shape)\n",
    "print(recovered.shape)"
   ]
  },
  {
   "attachments": {},
   "cell_type": "markdown",
   "metadata": {},
   "source": [
    "# Perform LSTM"
   ]
  },
  {
   "cell_type": "code",
   "execution_count": 11,
   "metadata": {},
   "outputs": [],
   "source": [
    "# # set parameters to split the data\n",
    "# split_ratio = 0.2 # First 80% of data is used for training, remaining 20% for testing \n",
    "# window_size = 5 # number of previous time steps to use as input variables to predict the next time period\n",
    "\n",
    "# normalize the data using MinMaxScaler in the range of [0, 1]\n",
    "scaler = MinMaxScaler()\n",
    "pca_normalized = scaler.fit_transform(pca_transformed)\n",
    "\n",
    "# split the data into training and testing sets\n",
    "data_len = pca_normalized.shape[0]\n",
    "train_data = pca_normalized[:int(data_len*(1-split_ratio*2))]\n",
    "val_data = pca_normalized[int(data_len*(1-split_ratio*2)):int(data_len*(1-split_ratio))]\n",
    "test_data = pca_normalized[int(data_len*(1-split_ratio)):]\n",
    "\n",
    "# split the data into input and output\n",
    "x_train, y_train = funcs.create_dataset(train_data, window_size)\n",
    "x_val, y_val = funcs.create_dataset(val_data, window_size)\n",
    "x_test, y_test = funcs.create_dataset(test_data, window_size)"
   ]
  },
  {
   "cell_type": "code",
   "execution_count": 19,
   "metadata": {},
   "outputs": [
    {
     "name": "stdout",
     "output_type": "stream",
     "text": [
      "[[1 2 3 4 5]\n",
      " [2 3 4 5 6]\n",
      " [3 4 5 6 7]\n",
      " [4 5 6 7 8]\n",
      " [5 6 7 8 9]] [ 6  7  8  9 10]\n"
     ]
    }
   ],
   "source": [
    "# an exmaple of how create_dataset works\n",
    "a = np.array([1,2,3,4,5,6,7,8,9,10])\n",
    "b,c = funcs.create_dataset(a, 5)\n",
    "print(b,c)"
   ]
  },
  {
   "cell_type": "code",
   "execution_count": 13,
   "metadata": {},
   "outputs": [
    {
     "name": "stdout",
     "output_type": "stream",
     "text": [
      "(900, 14) (300, 14) (300, 14)\n",
      "(870, 30, 14) (870, 14) (270, 30, 14) (270, 14) (270, 30, 14) (270, 14)\n"
     ]
    }
   ],
   "source": [
    "print(train_data.shape, val_data.shape, test_data.shape)\n",
    "print(x_train.shape, y_train.shape, x_test.shape, y_test.shape, x_val.shape, y_val.shape)"
   ]
  },
  {
   "cell_type": "code",
   "execution_count": 14,
   "metadata": {},
   "outputs": [
    {
     "name": "stderr",
     "output_type": "stream",
     "text": [
      "2023-07-05 17:12:45.066151: I tensorflow/core/platform/cpu_feature_guard.cc:193] This TensorFlow binary is optimized with oneAPI Deep Neural Network Library (oneDNN) to use the following CPU instructions in performance-critical operations:  SSE4.1 SSE4.2\n",
      "To enable them in other operations, rebuild TensorFlow with the appropriate compiler flags.\n"
     ]
    },
    {
     "name": "stdout",
     "output_type": "stream",
     "text": [
      "Epoch 1/100\n",
      "9/9 [==============================] - 4s 138ms/step - loss: 0.1168 - mean_squared_error: 0.1168 - val_loss: 0.0523 - val_mean_squared_error: 0.0523\n",
      "Epoch 2/100\n",
      "9/9 [==============================] - 1s 69ms/step - loss: 0.0499 - mean_squared_error: 0.0499 - val_loss: 0.0333 - val_mean_squared_error: 0.0333\n",
      "Epoch 3/100\n",
      "9/9 [==============================] - 1s 69ms/step - loss: 0.0393 - mean_squared_error: 0.0393 - val_loss: 0.0256 - val_mean_squared_error: 0.0256\n",
      "Epoch 4/100\n",
      "9/9 [==============================] - 1s 69ms/step - loss: 0.0323 - mean_squared_error: 0.0323 - val_loss: 0.0216 - val_mean_squared_error: 0.0216\n",
      "Epoch 5/100\n",
      "9/9 [==============================] - 1s 69ms/step - loss: 0.0268 - mean_squared_error: 0.0268 - val_loss: 0.0177 - val_mean_squared_error: 0.0177\n",
      "Epoch 6/100\n",
      "9/9 [==============================] - 1s 69ms/step - loss: 0.0227 - mean_squared_error: 0.0227 - val_loss: 0.0138 - val_mean_squared_error: 0.0138\n",
      "Epoch 7/100\n",
      "9/9 [==============================] - 1s 69ms/step - loss: 0.0190 - mean_squared_error: 0.0190 - val_loss: 0.0100 - val_mean_squared_error: 0.0100\n",
      "Epoch 8/100\n",
      "9/9 [==============================] - 1s 69ms/step - loss: 0.0150 - mean_squared_error: 0.0150 - val_loss: 0.0062 - val_mean_squared_error: 0.0062\n",
      "Epoch 9/100\n",
      "9/9 [==============================] - 1s 69ms/step - loss: 0.0116 - mean_squared_error: 0.0116 - val_loss: 0.0028 - val_mean_squared_error: 0.0028\n",
      "Epoch 10/100\n",
      "9/9 [==============================] - 1s 70ms/step - loss: 0.0093 - mean_squared_error: 0.0093 - val_loss: 0.0015 - val_mean_squared_error: 0.0015\n",
      "Epoch 11/100\n",
      "9/9 [==============================] - 1s 69ms/step - loss: 0.0081 - mean_squared_error: 0.0081 - val_loss: 9.1494e-04 - val_mean_squared_error: 9.1494e-04\n",
      "Epoch 12/100\n",
      "9/9 [==============================] - 1s 69ms/step - loss: 0.0074 - mean_squared_error: 0.0074 - val_loss: 4.6241e-04 - val_mean_squared_error: 4.6241e-04\n",
      "Epoch 13/100\n",
      "9/9 [==============================] - 1s 69ms/step - loss: 0.0068 - mean_squared_error: 0.0068 - val_loss: 6.4714e-04 - val_mean_squared_error: 6.4714e-04\n",
      "Epoch 14/100\n",
      "9/9 [==============================] - 1s 70ms/step - loss: 0.0065 - mean_squared_error: 0.0065 - val_loss: 4.3406e-04 - val_mean_squared_error: 4.3406e-04\n",
      "Epoch 15/100\n",
      "9/9 [==============================] - 1s 70ms/step - loss: 0.0063 - mean_squared_error: 0.0063 - val_loss: 3.5944e-04 - val_mean_squared_error: 3.5944e-04\n",
      "Epoch 16/100\n",
      "9/9 [==============================] - 1s 69ms/step - loss: 0.0060 - mean_squared_error: 0.0060 - val_loss: 4.3154e-04 - val_mean_squared_error: 4.3154e-04\n",
      "Epoch 17/100\n",
      "9/9 [==============================] - 1s 69ms/step - loss: 0.0057 - mean_squared_error: 0.0057 - val_loss: 2.9851e-04 - val_mean_squared_error: 2.9851e-04\n",
      "Epoch 18/100\n",
      "9/9 [==============================] - 1s 72ms/step - loss: 0.0056 - mean_squared_error: 0.0056 - val_loss: 1.7871e-04 - val_mean_squared_error: 1.7871e-04\n",
      "Epoch 19/100\n",
      "9/9 [==============================] - 1s 69ms/step - loss: 0.0054 - mean_squared_error: 0.0054 - val_loss: 2.5418e-04 - val_mean_squared_error: 2.5418e-04\n",
      "Epoch 20/100\n",
      "9/9 [==============================] - 1s 69ms/step - loss: 0.0054 - mean_squared_error: 0.0054 - val_loss: 2.7795e-04 - val_mean_squared_error: 2.7795e-04\n",
      "Epoch 21/100\n",
      "9/9 [==============================] - 1s 69ms/step - loss: 0.0051 - mean_squared_error: 0.0051 - val_loss: 3.4146e-04 - val_mean_squared_error: 3.4146e-04\n",
      "Epoch 22/100\n",
      "9/9 [==============================] - 1s 69ms/step - loss: 0.0048 - mean_squared_error: 0.0048 - val_loss: 1.2738e-04 - val_mean_squared_error: 1.2738e-04\n",
      "Epoch 23/100\n",
      "9/9 [==============================] - 1s 69ms/step - loss: 0.0047 - mean_squared_error: 0.0047 - val_loss: 2.5622e-04 - val_mean_squared_error: 2.5622e-04\n",
      "Epoch 24/100\n",
      "9/9 [==============================] - 1s 69ms/step - loss: 0.0047 - mean_squared_error: 0.0047 - val_loss: 2.2520e-04 - val_mean_squared_error: 2.2520e-04\n",
      "Epoch 25/100\n",
      "9/9 [==============================] - 1s 69ms/step - loss: 0.0046 - mean_squared_error: 0.0046 - val_loss: 2.0559e-04 - val_mean_squared_error: 2.0559e-04\n",
      "Epoch 26/100\n",
      "9/9 [==============================] - 1s 69ms/step - loss: 0.0046 - mean_squared_error: 0.0046 - val_loss: 3.5242e-04 - val_mean_squared_error: 3.5242e-04\n",
      "Epoch 27/100\n",
      "9/9 [==============================] - 1s 70ms/step - loss: 0.0044 - mean_squared_error: 0.0044 - val_loss: 2.6497e-04 - val_mean_squared_error: 2.6497e-04\n"
     ]
    },
    {
     "data": {
      "image/png": "[encoded data removed]",
      "text/plain": [
       "<Figure size 640x480 with 1 Axes>"
      ]
     },
     "metadata": {},
     "output_type": "display_data"
    }
   ],
   "source": [
    "# # Set parameters\n",
    "# batch_size = 100\n",
    "# no_epochs = 100\n",
    "# no_units = 128\n",
    "# patience = 5\n",
    "\n",
    "# Compile and train model\n",
    "model = lstm.LSTMModel(train_data.shape[1], batch_size, no_epochs, no_units)\n",
    "model.generate_and_compile_model(patience)\n",
    "model.train(x_train, y_train, x_val, y_val)\n",
    "# model.save()\n",
    "\n",
    "# Plot losses\n",
    "model.plot_loss()\n",
    "# funcs.plot_loss(model.history)"
   ]
  },
  {
   "cell_type": "code",
   "execution_count": 15,
   "metadata": {},
   "outputs": [
    {
     "name": "stdout",
     "output_type": "stream",
     "text": [
      "9/9 [==============================] - 1s 11ms/step\n",
      "MSE: 0.00012886088713870888\n"
     ]
    }
   ],
   "source": [
    "# Predict on test set and save results\n",
    "pred = model.predict(x_test)\n",
    "mse = mean_squared_error(y_test, pred)\n",
    "print(f'MSE: {mse}')\n",
    "# np.save('predictions/lstm.npy', pred)"
   ]
  },
  {
   "cell_type": "code",
   "execution_count": 16,
   "metadata": {},
   "outputs": [
    {
     "name": "stdout",
     "output_type": "stream",
     "text": [
      "(270, 9020, 3)\n"
     ]
    }
   ],
   "source": [
    "pred_transformed = pca.inverse_transform(pred)\n",
    "pred_reshaped = pred_transformed.reshape(pred_transformed.shape[0],data_shape[0],data_shape[1])\n",
    "print(pred_reshaped.shape)"
   ]
  },
  {
   "attachments": {},
   "cell_type": "markdown",
   "metadata": {},
   "source": [
    "# Save the predictions of test data to vtu files\n"
   ]
  },
  {
   "cell_type": "code",
   "execution_count": 17,
   "metadata": {},
   "outputs": [],
   "source": [
    "# set the origin and spacing of the data\n",
    "origin = (0, 0, 0) \n",
    "spacing = (x_size/x_res, y_size/y_res, z_size/z_res)  # spacing of the data\n",
    "\n",
    "# if the output directory does not exist, create it\n",
    "if not os.path.exists(output_data_path):\n",
    "    os.makedirs(output_data_path)\n",
    "\n",
    "for t in range(pred_reshaped.shape[0]):\n",
    "    # get the data at time t\n",
    "    data_t = pred_reshaped[t]\n",
    "\n",
    "    # reshape the data to a 1D array\n",
    "    data_t = data_t.reshape((x_res * y_res * z_res, 3))\n",
    "\n",
    "    # transform the data to a vtkArray\n",
    "    vtk_array = numpy_support.numpy_to_vtk(num_array=data_t, deep=True, array_type=vtk.VTK_FLOAT)\n",
    "\n",
    "    # create a vtkImageData object\n",
    "    image_data = vtk.vtkImageData()\n",
    "    image_data.SetDimensions(x_res, y_res, z_res)\n",
    "    image_data.SetDimensions(x_res, y_res, z_res)\n",
    "    image_data.SetOrigin(origin)\n",
    "    image_data.SetSpacing(spacing)\n",
    "    image_data.GetPointData().SetVectors(vtk_array)\n",
    "\n",
    "    # write the data to a .vti file\n",
    "    writer = vtk.vtkXMLImageDataWriter()\n",
    "    writer.SetFileName(os.path.join(output_data_path, f'pca_lstm_results{t}.vti')) \n",
    "    writer.SetInputData(image_data)\n",
    "    writer.Write()\n"
   ]
  },
  {
   "attachments": {},
   "cell_type": "markdown",
   "metadata": {},
   "source": [
    "# Use Weight and Biaes"
   ]
  },
  {
   "cell_type": "code",
   "execution_count": 18,
   "metadata": {},
   "outputs": [],
   "source": [
    "# import wandb\n",
    "# from wandb.keras import WandbCallback\n",
    "\n",
    "# sweep_config = {\n",
    "#     'method': 'random', #  grid or random\n",
    "#     'metric': {\n",
    "#       'name': 'val_loss',\n",
    "#       'goal': 'minimize'   \n",
    "#     },\n",
    "#     'parameters': {\n",
    "#         'no_units': {\n",
    "#             'values': [64, 128, 256]\n",
    "#         },\n",
    "#         'batch_size': {\n",
    "#             'values': [32, 64, 128]\n",
    "#         },\n",
    "#         'learning_rate': {\n",
    "#             'min': 1e-5,\n",
    "#             'max': 1e-2\n",
    "#         },\n",
    "#     }\n",
    "# }\n",
    "# def train():\n",
    "#     config_defaults = {\n",
    "#         'no_units': 128,\n",
    "#         'batch_size': 100,\n",
    "#         'learning_rate': 0.01,\n",
    "#     }\n",
    "#     wandb.init(config=config_defaults)\n",
    "#     config = wandb.config\n",
    "#     model = lstm.LSTMModel(train_data.shape[1], config.batch_size, no_epochs, config.no_units)\n",
    "#     model.generate_and_compile_model(patience)\n",
    "#     model.train(x_train, y_train, x_val, y_val)\n",
    "#     model.save()\n",
    "\n",
    "    \n",
    "# sweep_id = wandb.sweep(sweep_config)\n",
    "# wandb.agent(sweep_id, function=train)\n"
   ]
  }
 ],
 "metadata": {
  "kernelspec": {
   "display_name": "bda",
   "language": "python",
   "name": "python3"
  },
  "language_info": {
   "codemirror_mode": {
    "name": "ipython",
    "version": 3
   },
   "file_extension": ".py",
   "mimetype": "text/x-python",
   "name": "python",
   "nbconvert_exporter": "python",
   "pygments_lexer": "ipython3",
   "version": "3.10.11"
  },
  "orig_nbformat": 4
 },
 "nbformat": 4,
 "nbformat_minor": 2
}
